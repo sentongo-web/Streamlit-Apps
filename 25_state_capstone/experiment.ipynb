{
 "cells": [
  {
   "cell_type": "markdown",
   "id": "f8a3fdeb",
   "metadata": {},
   "source": [
    "Data source: https://www.kaggle.com/datasets/rupeshraundal/marketcheck-automotive-data-us-canada?select=ca-dealers-used.csv"
   ]
  },
  {
   "cell_type": "code",
   "execution_count": 2,
   "id": "777908eb",
   "metadata": {},
   "outputs": [],
   "source": [
    "import pandas as pd\n",
    "import numpy as np\n",
    "import matplotlib.pyplot as plt"
   ]
  },
  {
   "cell_type": "code",
   "execution_count": 148,
   "id": "340436a5",
   "metadata": {},
   "outputs": [
    {
     "name": "stderr",
     "output_type": "stream",
     "text": [
      "C:\\Users\\User\\AppData\\Local\\Temp\\ipykernel_13464\\3077795290.py:1: DtypeWarning: Columns (13,15) have mixed types. Specify dtype option on import or set low_memory=False.\n",
      "  df = pd.read_csv('data/ca-dealers-used.csv')\n"
     ]
    },
    {
     "data": {
      "text/html": [
       "<div>\n",
       "<style scoped>\n",
       "    .dataframe tbody tr th:only-of-type {\n",
       "        vertical-align: middle;\n",
       "    }\n",
       "\n",
       "    .dataframe tbody tr th {\n",
       "        vertical-align: top;\n",
       "    }\n",
       "\n",
       "    .dataframe thead th {\n",
       "        text-align: right;\n",
       "    }\n",
       "</style>\n",
       "<table border=\"1\" class=\"dataframe\">\n",
       "  <thead>\n",
       "    <tr style=\"text-align: right;\">\n",
       "      <th></th>\n",
       "      <th>id</th>\n",
       "      <th>vin</th>\n",
       "      <th>price</th>\n",
       "      <th>miles</th>\n",
       "      <th>stock_no</th>\n",
       "      <th>year</th>\n",
       "      <th>make</th>\n",
       "      <th>model</th>\n",
       "      <th>trim</th>\n",
       "      <th>body_type</th>\n",
       "      <th>...</th>\n",
       "      <th>drivetrain</th>\n",
       "      <th>transmission</th>\n",
       "      <th>fuel_type</th>\n",
       "      <th>engine_size</th>\n",
       "      <th>engine_block</th>\n",
       "      <th>seller_name</th>\n",
       "      <th>street</th>\n",
       "      <th>city</th>\n",
       "      <th>state</th>\n",
       "      <th>zip</th>\n",
       "    </tr>\n",
       "  </thead>\n",
       "  <tbody>\n",
       "    <tr>\n",
       "      <th>0</th>\n",
       "      <td>b39ea795-eca9</td>\n",
       "      <td>19UNC1B01HY800062</td>\n",
       "      <td>179999.0</td>\n",
       "      <td>9966.0</td>\n",
       "      <td>V-P4139</td>\n",
       "      <td>2017.0</td>\n",
       "      <td>Acura</td>\n",
       "      <td>NSX</td>\n",
       "      <td>Base</td>\n",
       "      <td>Coupe</td>\n",
       "      <td>...</td>\n",
       "      <td>4WD</td>\n",
       "      <td>Automatic</td>\n",
       "      <td>Electric / Premium Unleaded</td>\n",
       "      <td>3.5</td>\n",
       "      <td>V</td>\n",
       "      <td>edmundston honda</td>\n",
       "      <td>475 Rue Victoria</td>\n",
       "      <td>Edmundston</td>\n",
       "      <td>NB</td>\n",
       "      <td>E3V 2K7</td>\n",
       "    </tr>\n",
       "    <tr>\n",
       "      <th>1</th>\n",
       "      <td>026cb5b1-6e3e</td>\n",
       "      <td>19UNC1B02HY800023</td>\n",
       "      <td>179995.0</td>\n",
       "      <td>5988.0</td>\n",
       "      <td>PPAP70374</td>\n",
       "      <td>2017.0</td>\n",
       "      <td>Acura</td>\n",
       "      <td>NSX</td>\n",
       "      <td>Base</td>\n",
       "      <td>Coupe</td>\n",
       "      <td>...</td>\n",
       "      <td>4WD</td>\n",
       "      <td>Automatic</td>\n",
       "      <td>Electric / Premium Unleaded</td>\n",
       "      <td>3.5</td>\n",
       "      <td>V</td>\n",
       "      <td>garage daniel lessard</td>\n",
       "      <td>2795 Route-du-prsident-kennedy</td>\n",
       "      <td>Notre-dame-des-pins</td>\n",
       "      <td>QC</td>\n",
       "      <td>G0M 1K0</td>\n",
       "    </tr>\n",
       "    <tr>\n",
       "      <th>2</th>\n",
       "      <td>5cd5d5b2-5cc2</td>\n",
       "      <td>19UNC1B02HY800071</td>\n",
       "      <td>168528.0</td>\n",
       "      <td>24242.0</td>\n",
       "      <td>B21085</td>\n",
       "      <td>2017.0</td>\n",
       "      <td>Acura</td>\n",
       "      <td>NSX</td>\n",
       "      <td>Base</td>\n",
       "      <td>Coupe</td>\n",
       "      <td>...</td>\n",
       "      <td>4WD</td>\n",
       "      <td>Automatic</td>\n",
       "      <td>Electric / Premium Unleaded</td>\n",
       "      <td>3.5</td>\n",
       "      <td>V</td>\n",
       "      <td>lougheed acura</td>\n",
       "      <td>1388 Lougheed Highway</td>\n",
       "      <td>Coquitlam</td>\n",
       "      <td>BC</td>\n",
       "      <td>V3K 6S4</td>\n",
       "    </tr>\n",
       "    <tr>\n",
       "      <th>3</th>\n",
       "      <td>b32473ed-5922</td>\n",
       "      <td>19UNC1B02LY800001</td>\n",
       "      <td>220000.0</td>\n",
       "      <td>6637.0</td>\n",
       "      <td>AP5333</td>\n",
       "      <td>2020.0</td>\n",
       "      <td>Acura</td>\n",
       "      <td>NSX</td>\n",
       "      <td>Base</td>\n",
       "      <td>Coupe</td>\n",
       "      <td>...</td>\n",
       "      <td>4WD</td>\n",
       "      <td>Automatic</td>\n",
       "      <td>Electric / Premium Unleaded</td>\n",
       "      <td>3.5</td>\n",
       "      <td>V</td>\n",
       "      <td>drive autogroup</td>\n",
       "      <td>1305 Parkway Suite 600</td>\n",
       "      <td>Pickering</td>\n",
       "      <td>ON</td>\n",
       "      <td>L1V 3P2</td>\n",
       "    </tr>\n",
       "    <tr>\n",
       "      <th>4</th>\n",
       "      <td>ac40c9fc-0676</td>\n",
       "      <td>19UNC1B02LY800001</td>\n",
       "      <td>220000.0</td>\n",
       "      <td>6637.0</td>\n",
       "      <td>AP5333</td>\n",
       "      <td>2020.0</td>\n",
       "      <td>Acura</td>\n",
       "      <td>NSX</td>\n",
       "      <td>Base</td>\n",
       "      <td>Coupe</td>\n",
       "      <td>...</td>\n",
       "      <td>4WD</td>\n",
       "      <td>Automatic</td>\n",
       "      <td>Electric / Premium Unleaded</td>\n",
       "      <td>3.5</td>\n",
       "      <td>V</td>\n",
       "      <td>acura pickering</td>\n",
       "      <td>575 Kingston Road</td>\n",
       "      <td>Pickering</td>\n",
       "      <td>ON</td>\n",
       "      <td>L1V 3N7</td>\n",
       "    </tr>\n",
       "  </tbody>\n",
       "</table>\n",
       "<p>5 rows × 21 columns</p>\n",
       "</div>"
      ],
      "text/plain": [
       "              id                vin     price    miles   stock_no    year  \\\n",
       "0  b39ea795-eca9  19UNC1B01HY800062  179999.0   9966.0    V-P4139  2017.0   \n",
       "1  026cb5b1-6e3e  19UNC1B02HY800023  179995.0   5988.0  PPAP70374  2017.0   \n",
       "2  5cd5d5b2-5cc2  19UNC1B02HY800071  168528.0  24242.0     B21085  2017.0   \n",
       "3  b32473ed-5922  19UNC1B02LY800001  220000.0   6637.0     AP5333  2020.0   \n",
       "4  ac40c9fc-0676  19UNC1B02LY800001  220000.0   6637.0     AP5333  2020.0   \n",
       "\n",
       "    make model  trim body_type  ... drivetrain transmission  \\\n",
       "0  Acura   NSX  Base     Coupe  ...        4WD    Automatic   \n",
       "1  Acura   NSX  Base     Coupe  ...        4WD    Automatic   \n",
       "2  Acura   NSX  Base     Coupe  ...        4WD    Automatic   \n",
       "3  Acura   NSX  Base     Coupe  ...        4WD    Automatic   \n",
       "4  Acura   NSX  Base     Coupe  ...        4WD    Automatic   \n",
       "\n",
       "                     fuel_type engine_size  engine_block  \\\n",
       "0  Electric / Premium Unleaded         3.5             V   \n",
       "1  Electric / Premium Unleaded         3.5             V   \n",
       "2  Electric / Premium Unleaded         3.5             V   \n",
       "3  Electric / Premium Unleaded         3.5             V   \n",
       "4  Electric / Premium Unleaded         3.5             V   \n",
       "\n",
       "             seller_name                          street                 city  \\\n",
       "0       edmundston honda                475 Rue Victoria           Edmundston   \n",
       "1  garage daniel lessard  2795 Route-du-prsident-kennedy  Notre-dame-des-pins   \n",
       "2         lougheed acura           1388 Lougheed Highway            Coquitlam   \n",
       "3        drive autogroup          1305 Parkway Suite 600            Pickering   \n",
       "4        acura pickering               575 Kingston Road            Pickering   \n",
       "\n",
       "  state      zip  \n",
       "0    NB  E3V 2K7  \n",
       "1    QC  G0M 1K0  \n",
       "2    BC  V3K 6S4  \n",
       "3    ON  L1V 3P2  \n",
       "4    ON  L1V 3N7  \n",
       "\n",
       "[5 rows x 21 columns]"
      ]
     },
     "execution_count": 148,
     "metadata": {},
     "output_type": "execute_result"
    }
   ],
   "source": [
    "df = pd.read_csv('data/ca-dealers-used.csv')\n",
    "df.head()"
   ]
  },
  {
   "cell_type": "code",
   "execution_count": 149,
   "id": "a9a3846d",
   "metadata": {},
   "outputs": [
    {
     "data": {
      "text/plain": [
       "id                  0\n",
       "vin                 0\n",
       "price           35117\n",
       "miles           27013\n",
       "stock_no        27674\n",
       "year               17\n",
       "make                0\n",
       "model            4794\n",
       "trim            38779\n",
       "body_type       34025\n",
       "vehicle_type    38238\n",
       "drivetrain      38995\n",
       "transmission    35681\n",
       "fuel_type       70813\n",
       "engine_size     72653\n",
       "engine_block    73164\n",
       "seller_name      2232\n",
       "street           7929\n",
       "city             7774\n",
       "state            7836\n",
       "zip              7769\n",
       "dtype: int64"
      ]
     },
     "execution_count": 149,
     "metadata": {},
     "output_type": "execute_result"
    }
   ],
   "source": [
    "df.isna().sum()"
   ]
  },
  {
   "cell_type": "code",
   "execution_count": 150,
   "id": "3985833b",
   "metadata": {},
   "outputs": [
    {
     "data": {
      "text/plain": [
       "(393603, 21)"
      ]
     },
     "execution_count": 150,
     "metadata": {},
     "output_type": "execute_result"
    }
   ],
   "source": [
    "df.shape"
   ]
  },
  {
   "cell_type": "code",
   "execution_count": 151,
   "id": "9fa85433",
   "metadata": {},
   "outputs": [
    {
     "data": {
      "text/plain": [
       "(393603, 13)"
      ]
     },
     "execution_count": 151,
     "metadata": {},
     "output_type": "execute_result"
    }
   ],
   "source": [
    "cols_to_drop = ['id', 'vin', 'trim', 'stock_no', 'street', 'zip', 'seller_name', 'city']\n",
    "df = df.drop(cols_to_drop, axis=1)\n",
    "\n",
    "df.shape"
   ]
  },
  {
   "cell_type": "code",
   "execution_count": 152,
   "id": "0e0bf1e2",
   "metadata": {},
   "outputs": [
    {
     "data": {
      "text/plain": [
       "price           float64\n",
       "miles           float64\n",
       "year            float64\n",
       "make             object\n",
       "model            object\n",
       "body_type        object\n",
       "vehicle_type     object\n",
       "drivetrain       object\n",
       "transmission     object\n",
       "fuel_type        object\n",
       "engine_size     float64\n",
       "engine_block     object\n",
       "state            object\n",
       "dtype: object"
      ]
     },
     "execution_count": 152,
     "metadata": {},
     "output_type": "execute_result"
    }
   ],
   "source": [
    "df.dtypes"
   ]
  },
  {
   "cell_type": "code",
   "execution_count": 153,
   "id": "833c6def",
   "metadata": {},
   "outputs": [],
   "source": [
    "df = df.dropna(axis=0)"
   ]
  },
  {
   "cell_type": "code",
   "execution_count": 156,
   "id": "c7fb6333",
   "metadata": {},
   "outputs": [
    {
     "data": {
      "text/plain": [
       "price           float64\n",
       "miles           float64\n",
       "year            float64\n",
       "make             string\n",
       "model            string\n",
       "body_type        string\n",
       "vehicle_type     string\n",
       "drivetrain       string\n",
       "transmission     string\n",
       "fuel_type        string\n",
       "engine_size     float64\n",
       "engine_block     string\n",
       "state            string\n",
       "dtype: object"
      ]
     },
     "execution_count": 156,
     "metadata": {},
     "output_type": "execute_result"
    }
   ],
   "source": [
    "df[['make', 'model', 'body_type', 'vehicle_type', 'drivetrain', 'transmission', 'fuel_type', 'engine_block', 'state']] = df[['make', 'model', 'body_type', 'vehicle_type', 'drivetrain', 'transmission', 'fuel_type', 'engine_block', 'state']].astype(\"string\")\n",
    "\n",
    "df.dtypes"
   ]
  },
  {
   "cell_type": "code",
   "execution_count": 157,
   "id": "e7631626",
   "metadata": {},
   "outputs": [
    {
     "data": {
      "text/plain": [
       "(269552, 13)"
      ]
     },
     "execution_count": 157,
     "metadata": {},
     "output_type": "execute_result"
    }
   ],
   "source": [
    "df.shape"
   ]
  },
  {
   "cell_type": "code",
   "execution_count": 158,
   "id": "75193213",
   "metadata": {},
   "outputs": [
    {
     "data": {
      "text/plain": [
       "price           0\n",
       "miles           0\n",
       "year            0\n",
       "make            0\n",
       "model           0\n",
       "body_type       0\n",
       "vehicle_type    0\n",
       "drivetrain      0\n",
       "transmission    0\n",
       "fuel_type       0\n",
       "engine_size     0\n",
       "engine_block    0\n",
       "state           0\n",
       "dtype: int64"
      ]
     },
     "execution_count": 158,
     "metadata": {},
     "output_type": "execute_result"
    }
   ],
   "source": [
    "df.isna().sum()"
   ]
  },
  {
   "cell_type": "code",
   "execution_count": 159,
   "id": "29702350",
   "metadata": {},
   "outputs": [
    {
     "data": {
      "text/html": [
       "<div>\n",
       "<style scoped>\n",
       "    .dataframe tbody tr th:only-of-type {\n",
       "        vertical-align: middle;\n",
       "    }\n",
       "\n",
       "    .dataframe tbody tr th {\n",
       "        vertical-align: top;\n",
       "    }\n",
       "\n",
       "    .dataframe thead th {\n",
       "        text-align: right;\n",
       "    }\n",
       "</style>\n",
       "<table border=\"1\" class=\"dataframe\">\n",
       "  <thead>\n",
       "    <tr style=\"text-align: right;\">\n",
       "      <th></th>\n",
       "      <th>price</th>\n",
       "      <th>miles</th>\n",
       "      <th>year</th>\n",
       "      <th>make</th>\n",
       "      <th>model</th>\n",
       "      <th>body_type</th>\n",
       "      <th>vehicle_type</th>\n",
       "      <th>drivetrain</th>\n",
       "      <th>transmission</th>\n",
       "      <th>fuel_type</th>\n",
       "      <th>engine_size</th>\n",
       "      <th>engine_block</th>\n",
       "      <th>state</th>\n",
       "    </tr>\n",
       "  </thead>\n",
       "  <tbody>\n",
       "    <tr>\n",
       "      <th>0</th>\n",
       "      <td>179999.0</td>\n",
       "      <td>9966.0</td>\n",
       "      <td>2017.0</td>\n",
       "      <td>Acura</td>\n",
       "      <td>NSX</td>\n",
       "      <td>Coupe</td>\n",
       "      <td>Car</td>\n",
       "      <td>4WD</td>\n",
       "      <td>Automatic</td>\n",
       "      <td>Electric / Premium Unleaded</td>\n",
       "      <td>3.5</td>\n",
       "      <td>V</td>\n",
       "      <td>NB</td>\n",
       "    </tr>\n",
       "    <tr>\n",
       "      <th>1</th>\n",
       "      <td>179995.0</td>\n",
       "      <td>5988.0</td>\n",
       "      <td>2017.0</td>\n",
       "      <td>Acura</td>\n",
       "      <td>NSX</td>\n",
       "      <td>Coupe</td>\n",
       "      <td>Car</td>\n",
       "      <td>4WD</td>\n",
       "      <td>Automatic</td>\n",
       "      <td>Electric / Premium Unleaded</td>\n",
       "      <td>3.5</td>\n",
       "      <td>V</td>\n",
       "      <td>QC</td>\n",
       "    </tr>\n",
       "    <tr>\n",
       "      <th>2</th>\n",
       "      <td>168528.0</td>\n",
       "      <td>24242.0</td>\n",
       "      <td>2017.0</td>\n",
       "      <td>Acura</td>\n",
       "      <td>NSX</td>\n",
       "      <td>Coupe</td>\n",
       "      <td>Car</td>\n",
       "      <td>4WD</td>\n",
       "      <td>Automatic</td>\n",
       "      <td>Electric / Premium Unleaded</td>\n",
       "      <td>3.5</td>\n",
       "      <td>V</td>\n",
       "      <td>BC</td>\n",
       "    </tr>\n",
       "    <tr>\n",
       "      <th>3</th>\n",
       "      <td>220000.0</td>\n",
       "      <td>6637.0</td>\n",
       "      <td>2020.0</td>\n",
       "      <td>Acura</td>\n",
       "      <td>NSX</td>\n",
       "      <td>Coupe</td>\n",
       "      <td>Car</td>\n",
       "      <td>4WD</td>\n",
       "      <td>Automatic</td>\n",
       "      <td>Electric / Premium Unleaded</td>\n",
       "      <td>3.5</td>\n",
       "      <td>V</td>\n",
       "      <td>ON</td>\n",
       "    </tr>\n",
       "    <tr>\n",
       "      <th>4</th>\n",
       "      <td>220000.0</td>\n",
       "      <td>6637.0</td>\n",
       "      <td>2020.0</td>\n",
       "      <td>Acura</td>\n",
       "      <td>NSX</td>\n",
       "      <td>Coupe</td>\n",
       "      <td>Car</td>\n",
       "      <td>4WD</td>\n",
       "      <td>Automatic</td>\n",
       "      <td>Electric / Premium Unleaded</td>\n",
       "      <td>3.5</td>\n",
       "      <td>V</td>\n",
       "      <td>ON</td>\n",
       "    </tr>\n",
       "  </tbody>\n",
       "</table>\n",
       "</div>"
      ],
      "text/plain": [
       "      price    miles    year   make model body_type vehicle_type drivetrain  \\\n",
       "0  179999.0   9966.0  2017.0  Acura   NSX     Coupe          Car        4WD   \n",
       "1  179995.0   5988.0  2017.0  Acura   NSX     Coupe          Car        4WD   \n",
       "2  168528.0  24242.0  2017.0  Acura   NSX     Coupe          Car        4WD   \n",
       "3  220000.0   6637.0  2020.0  Acura   NSX     Coupe          Car        4WD   \n",
       "4  220000.0   6637.0  2020.0  Acura   NSX     Coupe          Car        4WD   \n",
       "\n",
       "  transmission                    fuel_type  engine_size engine_block state  \n",
       "0    Automatic  Electric / Premium Unleaded          3.5            V    NB  \n",
       "1    Automatic  Electric / Premium Unleaded          3.5            V    QC  \n",
       "2    Automatic  Electric / Premium Unleaded          3.5            V    BC  \n",
       "3    Automatic  Electric / Premium Unleaded          3.5            V    ON  \n",
       "4    Automatic  Electric / Premium Unleaded          3.5            V    ON  "
      ]
     },
     "execution_count": 159,
     "metadata": {},
     "output_type": "execute_result"
    }
   ],
   "source": [
    "df.head()"
   ]
  },
  {
   "cell_type": "code",
   "execution_count": 160,
   "id": "3299b20a",
   "metadata": {},
   "outputs": [
    {
     "data": {
      "text/plain": [
       "<StringArray>\n",
       "[        'Acura',         'Dodge',      'Chrysler',           'RAM',\n",
       "          'Ford',     'Chevrolet',         'Buick',      'Cadillac',\n",
       "           'GMC',         'Lexus',    'Volkswagen',           'BMW',\n",
       " 'Mercedes-Benz',        'Hummer',       'Lincoln',         'Volvo',\n",
       "      'INFINITI',        'Toyota',    'Land Rover',          'Audi',\n",
       "          'MINI',       'Porsche',      'Maserati',    'Am General',\n",
       "          'Jeep',        'Nissan',         'Mazda',        'Jaguar',\n",
       "         'Honda',       'Pontiac',    'Oldsmobile',        'Saturn',\n",
       "      'Plymouth',       'Mercury',        'Suzuki',           'Kia',\n",
       "       'Hyundai',         'Scion',    'Mitsubishi',        'Subaru',\n",
       "          'FIAT',       'GENESIS',         'Lotus',          'Saab',\n",
       "       'Ferrari',       'McLaren',   'Rolls-Royce',       'Bentley',\n",
       "  'Aston Martin',       'Maybach',         'smart',    'Alfa Romeo',\n",
       "   'Lamborghini',         'KARMA']\n",
       "Length: 54, dtype: string"
      ]
     },
     "execution_count": 160,
     "metadata": {},
     "output_type": "execute_result"
    }
   ],
   "source": [
    "df['make'].unique()"
   ]
  },
  {
   "cell_type": "code",
   "execution_count": 161,
   "id": "7b7d044f",
   "metadata": {},
   "outputs": [
    {
     "data": {
      "text/plain": [
       "array(['acura', 'dodge', 'chrysler', 'ram', 'ford', 'chevrolet', 'buick',\n",
       "       'cadillac', 'gmc', 'lexus', 'volkswagen', 'bmw', 'mercedes_benz',\n",
       "       'hummer', 'lincoln', 'volvo', 'infiniti', 'toyota', 'land_rover',\n",
       "       'audi', 'mini', 'porsche', 'maserati', 'am_general', 'jeep',\n",
       "       'nissan', 'mazda', 'jaguar', 'honda', 'pontiac', 'oldsmobile',\n",
       "       'saturn', 'plymouth', 'mercury', 'suzuki', 'kia', 'hyundai',\n",
       "       'scion', 'mitsubishi', 'subaru', 'fiat', 'genesis', 'lotus',\n",
       "       'saab', 'ferrari', 'mclaren', 'rolls_royce', 'bentley',\n",
       "       'aston_martin', 'maybach', 'smart', 'alfa_romeo', 'lamborghini',\n",
       "       'karma'], dtype=object)"
      ]
     },
     "execution_count": 161,
     "metadata": {},
     "output_type": "execute_result"
    }
   ],
   "source": [
    "df['make'] = df['make'].apply(lambda x : x.lower().replace(' ', '_').replace('-', '_'))\n",
    "\n",
    "df['make'].unique()"
   ]
  },
  {
   "cell_type": "code",
   "execution_count": 162,
   "id": "5473c6b6",
   "metadata": {},
   "outputs": [
    {
     "data": {
      "text/plain": [
       "array(['coupe', 'sedan', 'pickup', 'suv', 'convertible', 'hatchback',\n",
       "       'targa', 'passenger_van', 'cargo_van', 'chassis_cab', 'minivan',\n",
       "       'mini_mpv', 'crossover', 'wagon', 'cutaway', 'micro_car', 'combi',\n",
       "       'car_van', 'roadster', 'commercial_wagon'], dtype=object)"
      ]
     },
     "execution_count": 162,
     "metadata": {},
     "output_type": "execute_result"
    }
   ],
   "source": [
    "df['body_type'] = df['body_type'].apply(lambda x : x.lower().replace(' ', '_').replace('-', '_'))\n",
    "df['body_type'].unique()"
   ]
  },
  {
   "cell_type": "code",
   "execution_count": 163,
   "id": "ec15d3e3",
   "metadata": {},
   "outputs": [
    {
     "data": {
      "text/plain": [
       "<StringArray>\n",
       "['Car', 'Truck']\n",
       "Length: 2, dtype: string"
      ]
     },
     "execution_count": 163,
     "metadata": {},
     "output_type": "execute_result"
    }
   ],
   "source": [
    "df['vehicle_type'].unique()"
   ]
  },
  {
   "cell_type": "code",
   "execution_count": 164,
   "id": "a188df35",
   "metadata": {},
   "outputs": [
    {
     "data": {
      "text/plain": [
       "<StringArray>\n",
       "['4WD', 'FWD', 'RWD']\n",
       "Length: 3, dtype: string"
      ]
     },
     "execution_count": 164,
     "metadata": {},
     "output_type": "execute_result"
    }
   ],
   "source": [
    "df['drivetrain'].unique()"
   ]
  },
  {
   "cell_type": "code",
   "execution_count": 165,
   "id": "58e33c2d",
   "metadata": {},
   "outputs": [
    {
     "data": {
      "text/plain": [
       "<StringArray>\n",
       "['Automatic', 'Manual']\n",
       "Length: 2, dtype: string"
      ]
     },
     "execution_count": 165,
     "metadata": {},
     "output_type": "execute_result"
    }
   ],
   "source": [
    "df['transmission'].unique()"
   ]
  },
  {
   "cell_type": "code",
   "execution_count": 166,
   "id": "463de362",
   "metadata": {},
   "outputs": [
    {
     "data": {
      "text/plain": [
       "<StringArray>\n",
       "[        'Electric / Premium Unleaded',                                 'E85',\n",
       "            'E85 / Unleaded; Unleaded',                      'Unleaded / E85',\n",
       "                 'Unleaded / Unleaded', 'E85 / Unleaded; Unleaded / Unleaded',\n",
       "          'Premium Unleaded; Unleaded',         'Premium Unleaded / Unleaded',\n",
       "        'Compressed Natural Gas / Lpg',   'Compressed Natural Gas / Unleaded',\n",
       "                           'Biodiesel',              'E85 / Premium Unleaded',\n",
       "                      'Electric / E85',              'Compressed Natural Gas',\n",
       "    'Compressed Natural Gas; Unleaded',                 'Unleaded / Electric',\n",
       "           'Diesel / Premium Unleaded',                              'Diesel',\n",
       "                            'Electric',                            'Unleaded',\n",
       "                      'E85 / Unleaded',                    'Premium Unleaded',\n",
       "                 'Electric / Unleaded']\n",
       "Length: 23, dtype: string"
      ]
     },
     "execution_count": 166,
     "metadata": {},
     "output_type": "execute_result"
    }
   ],
   "source": [
    "df['fuel_type'].unique()"
   ]
  },
  {
   "cell_type": "code",
   "execution_count": 167,
   "id": "892dfb96",
   "metadata": {},
   "outputs": [],
   "source": [
    "gasoline = {'gas', \n",
    "            'E85 / Unleaded',\n",
    "       'Unleaded', 'Premium Unleaded',\n",
    "       'Premium Unleaded; Unleaded', \n",
    "       'Unleaded; Unleaded / E85', 'Unleaded / E85',\n",
    "       'E85 / Unleaded; Unleaded', 'Premium Unleaded / Unleaded',\n",
    "       'E85 / Premium Unleaded; E85 / Unleaded', \n",
    "       'E85', 'E85 / Premium Unleaded', \n",
    "       'Compressed Natural Gas; Unleaded',\n",
    "       'E85 / Unleaded; Unleaded / Unleaded',\n",
    "       'Diesel / Premium Unleaded', 'E85 / Unleaded; Unleaded / E85',\n",
    "       'Unleaded / Unleaded', \n",
    "       'Compressed Natural Gas / Unleaded', 'Diesel; Unleaded',\n",
    "       'Diesel; E85 / Unleaded', 'E85 / Unleaded; Premium Unleaded',\n",
    "       'Premium Unleaded; Premium Unleaded / E85', 'E85; E85 / Unleaded',\n",
    "       'Unleaded / Premium Unleaded',\n",
    "       'Premium Unleaded / E85',\n",
    "       'M85 / Unleaded'\n",
    "}\n",
    "\n",
    "biodiesel = {\n",
    "    'Biodiesel'\n",
    "}\n",
    "\n",
    "hybrid = {\n",
    "       'Electric / Premium Unleaded', \n",
    "       'Electric / Unleaded',\n",
    "       'Unleaded / Electric',\n",
    "       'Electric / Hydrogen',\n",
    "       'Electric / Premium Unleaded; Electric / Unleaded',\n",
    "       'Electric / Premium Unleaded; Premium Unleaded',\n",
    "       'Electric / E85'\n",
    "}\n",
    "\n",
    "other = {\n",
    "    'Hydrogen', \n",
    "    'Premium Unleaded / Natural Gas',\n",
    "    'Compressed Natural Gas / Lpg', \n",
    "    'Compressed Natural Gas', 'Propane',\n",
    "    'Flex Fuel Vehicle',\n",
    "}\n",
    "\n",
    "def preprocess_fuel_type(x):\n",
    "    if x in gasoline:\n",
    "        return \"gasoline\"\n",
    "    elif x in biodiesel:\n",
    "        return \"biodiesel\"\n",
    "    elif x in hybrid:\n",
    "        return \"hyrid\"\n",
    "    else:\n",
    "        return \"other\"\n",
    "    \n",
    "df['fuel_type'] = df['fuel_type'].apply(preprocess_fuel_type)"
   ]
  },
  {
   "cell_type": "code",
   "execution_count": 168,
   "id": "6c34e78c",
   "metadata": {},
   "outputs": [
    {
     "data": {
      "text/plain": [
       "array(['hyrid', 'gasoline', 'other', 'biodiesel'], dtype=object)"
      ]
     },
     "execution_count": 168,
     "metadata": {},
     "output_type": "execute_result"
    }
   ],
   "source": [
    "df['fuel_type'].unique()"
   ]
  },
  {
   "cell_type": "code",
   "execution_count": 169,
   "id": "ec834cf8",
   "metadata": {},
   "outputs": [
    {
     "data": {
      "text/plain": [
       "array([3.5, 2.7, 3.6, 5.7, 4. , 5. , 5.4, 3. , 1.4, 1.5, 4.6, 6. , 6.6,\n",
       "       5.3, 6.2, 6.1, 2.4, 1.6, 2. , 3.3, 1.8, 2.5, 0.6, 2.9, 4.7, 6.5,\n",
       "       5.9, 3.2, 6.7, 6.4, 7.3, 2.8, 1.9, 2.2, 2.1, 5.2, 8. , 3.7, 2.3,\n",
       "       1. , 3.8, 3.9, 6.8, 4.2, 3.1, 3.4, 4.5, 4.8, 4.3, 8.1, 7.4, 1.7,\n",
       "       5.6, 1.3, 1.2, 4.4, 6.3, 8.3, 8.4, 7. , 5.8, 5.5, 2.6, 0.9])"
      ]
     },
     "execution_count": 169,
     "metadata": {},
     "output_type": "execute_result"
    }
   ],
   "source": [
    "df['engine_size'].unique()"
   ]
  },
  {
   "cell_type": "code",
   "execution_count": 170,
   "id": "67d98ff7",
   "metadata": {},
   "outputs": [
    {
     "data": {
      "text/plain": [
       "<StringArray>\n",
       "['V', 'I', 'H']\n",
       "Length: 3, dtype: string"
      ]
     },
     "execution_count": 170,
     "metadata": {},
     "output_type": "execute_result"
    }
   ],
   "source": [
    "df['engine_block'].unique()"
   ]
  },
  {
   "cell_type": "code",
   "execution_count": 171,
   "id": "9e34a55a",
   "metadata": {},
   "outputs": [
    {
     "data": {
      "text/plain": [
       "<StringArray>\n",
       "['NB', 'QC', 'BC', 'ON', 'AB', 'MB', 'SK', 'NS', 'PE', 'NL', 'YT', 'NC', 'OH',\n",
       " 'SC']\n",
       "Length: 14, dtype: string"
      ]
     },
     "execution_count": 171,
     "metadata": {},
     "output_type": "execute_result"
    }
   ],
   "source": [
    "df['state'].unique()"
   ]
  },
  {
   "cell_type": "code",
   "execution_count": 172,
   "id": "b2413af2",
   "metadata": {},
   "outputs": [],
   "source": [
    "unique_make_model = df.groupby(['make', 'model']).size().reset_index(name='count')\n",
    "\n",
    "non_unique_rows = unique_make_model[unique_make_model['count']>1]\n",
    "\n",
    "df_filtered = df.merge(non_unique_rows, on=['make', 'model'], how='inner').drop(['count'], axis=1)\n"
   ]
  },
  {
   "cell_type": "code",
   "execution_count": 173,
   "id": "7bd4e98b",
   "metadata": {},
   "outputs": [
    {
     "data": {
      "text/plain": [
       "(269493, 13)"
      ]
     },
     "execution_count": 173,
     "metadata": {},
     "output_type": "execute_result"
    }
   ],
   "source": [
    "df_filtered.shape"
   ]
  },
  {
   "cell_type": "code",
   "execution_count": 174,
   "id": "1a5157fb",
   "metadata": {},
   "outputs": [],
   "source": [
    "df_filtered.to_csv('data/used_car_canada_clean.csv', index=False, header=True)"
   ]
  },
  {
   "cell_type": "markdown",
   "id": "00c1066f",
   "metadata": {},
   "source": [
    "## Modeling "
   ]
  },
  {
   "cell_type": "code",
   "execution_count": 3,
   "id": "171d02e6",
   "metadata": {},
   "outputs": [
    {
     "data": {
      "text/html": [
       "<div>\n",
       "<style scoped>\n",
       "    .dataframe tbody tr th:only-of-type {\n",
       "        vertical-align: middle;\n",
       "    }\n",
       "\n",
       "    .dataframe tbody tr th {\n",
       "        vertical-align: top;\n",
       "    }\n",
       "\n",
       "    .dataframe thead th {\n",
       "        text-align: right;\n",
       "    }\n",
       "</style>\n",
       "<table border=\"1\" class=\"dataframe\">\n",
       "  <thead>\n",
       "    <tr style=\"text-align: right;\">\n",
       "      <th></th>\n",
       "      <th>price</th>\n",
       "      <th>miles</th>\n",
       "      <th>year</th>\n",
       "      <th>make</th>\n",
       "      <th>model</th>\n",
       "      <th>body_type</th>\n",
       "      <th>vehicle_type</th>\n",
       "      <th>drivetrain</th>\n",
       "      <th>transmission</th>\n",
       "      <th>fuel_type</th>\n",
       "      <th>engine_size</th>\n",
       "      <th>engine_block</th>\n",
       "      <th>state</th>\n",
       "    </tr>\n",
       "  </thead>\n",
       "  <tbody>\n",
       "    <tr>\n",
       "      <th>0</th>\n",
       "      <td>179999.0</td>\n",
       "      <td>9966.0</td>\n",
       "      <td>2017.0</td>\n",
       "      <td>acura</td>\n",
       "      <td>NSX</td>\n",
       "      <td>coupe</td>\n",
       "      <td>Car</td>\n",
       "      <td>4WD</td>\n",
       "      <td>Automatic</td>\n",
       "      <td>hyrid</td>\n",
       "      <td>3.5</td>\n",
       "      <td>V</td>\n",
       "      <td>NB</td>\n",
       "    </tr>\n",
       "    <tr>\n",
       "      <th>1</th>\n",
       "      <td>179995.0</td>\n",
       "      <td>5988.0</td>\n",
       "      <td>2017.0</td>\n",
       "      <td>acura</td>\n",
       "      <td>NSX</td>\n",
       "      <td>coupe</td>\n",
       "      <td>Car</td>\n",
       "      <td>4WD</td>\n",
       "      <td>Automatic</td>\n",
       "      <td>hyrid</td>\n",
       "      <td>3.5</td>\n",
       "      <td>V</td>\n",
       "      <td>QC</td>\n",
       "    </tr>\n",
       "    <tr>\n",
       "      <th>2</th>\n",
       "      <td>168528.0</td>\n",
       "      <td>24242.0</td>\n",
       "      <td>2017.0</td>\n",
       "      <td>acura</td>\n",
       "      <td>NSX</td>\n",
       "      <td>coupe</td>\n",
       "      <td>Car</td>\n",
       "      <td>4WD</td>\n",
       "      <td>Automatic</td>\n",
       "      <td>hyrid</td>\n",
       "      <td>3.5</td>\n",
       "      <td>V</td>\n",
       "      <td>BC</td>\n",
       "    </tr>\n",
       "    <tr>\n",
       "      <th>3</th>\n",
       "      <td>220000.0</td>\n",
       "      <td>6637.0</td>\n",
       "      <td>2020.0</td>\n",
       "      <td>acura</td>\n",
       "      <td>NSX</td>\n",
       "      <td>coupe</td>\n",
       "      <td>Car</td>\n",
       "      <td>4WD</td>\n",
       "      <td>Automatic</td>\n",
       "      <td>hyrid</td>\n",
       "      <td>3.5</td>\n",
       "      <td>V</td>\n",
       "      <td>ON</td>\n",
       "    </tr>\n",
       "    <tr>\n",
       "      <th>4</th>\n",
       "      <td>220000.0</td>\n",
       "      <td>6637.0</td>\n",
       "      <td>2020.0</td>\n",
       "      <td>acura</td>\n",
       "      <td>NSX</td>\n",
       "      <td>coupe</td>\n",
       "      <td>Car</td>\n",
       "      <td>4WD</td>\n",
       "      <td>Automatic</td>\n",
       "      <td>hyrid</td>\n",
       "      <td>3.5</td>\n",
       "      <td>V</td>\n",
       "      <td>ON</td>\n",
       "    </tr>\n",
       "  </tbody>\n",
       "</table>\n",
       "</div>"
      ],
      "text/plain": [
       "      price    miles    year   make model body_type vehicle_type drivetrain  \\\n",
       "0  179999.0   9966.0  2017.0  acura   NSX     coupe          Car        4WD   \n",
       "1  179995.0   5988.0  2017.0  acura   NSX     coupe          Car        4WD   \n",
       "2  168528.0  24242.0  2017.0  acura   NSX     coupe          Car        4WD   \n",
       "3  220000.0   6637.0  2020.0  acura   NSX     coupe          Car        4WD   \n",
       "4  220000.0   6637.0  2020.0  acura   NSX     coupe          Car        4WD   \n",
       "\n",
       "  transmission fuel_type  engine_size engine_block state  \n",
       "0    Automatic     hyrid          3.5            V    NB  \n",
       "1    Automatic     hyrid          3.5            V    QC  \n",
       "2    Automatic     hyrid          3.5            V    BC  \n",
       "3    Automatic     hyrid          3.5            V    ON  \n",
       "4    Automatic     hyrid          3.5            V    ON  "
      ]
     },
     "execution_count": 3,
     "metadata": {},
     "output_type": "execute_result"
    }
   ],
   "source": [
    "df = pd.read_csv('data/used_car_canada_clean.csv')\n",
    "df.head()"
   ]
  },
  {
   "cell_type": "code",
   "execution_count": 6,
   "id": "56c9a351",
   "metadata": {},
   "outputs": [],
   "source": [
    "from sklearn.model_selection import train_test_split\n",
    "\n",
    "X = df.drop(['price'], axis=1)\n",
    "y = df['price']\n",
    "\n",
    "X_train, X_test, y_train, y_test = train_test_split(X, y, stratify=df[['make', 'model']], test_size=0.2, shuffle=True, random_state=42)"
   ]
  },
  {
   "cell_type": "code",
   "execution_count": 7,
   "id": "6c983788",
   "metadata": {},
   "outputs": [],
   "source": [
    "from sklearn.compose import ColumnTransformer\n",
    "from sklearn.pipeline import Pipeline\n",
    "from sklearn.preprocessing import OrdinalEncoder\n",
    "from sklearn.feature_selection import SelectPercentile, mutual_info_regression\n",
    "\n",
    "cat_index = [3,4,5,6,7,8,10,11]\n",
    "\n",
    "cat_features_transformer = Pipeline(\n",
    "    steps=[\n",
    "        (\"encoder\", OrdinalEncoder()),\n",
    "        (\"selector\", SelectPercentile(mutual_info_regression, percentile=50))\n",
    "    ]\n",
    ")\n",
    "\n",
    "preprocessor = ColumnTransformer(\n",
    "    transformers=[\n",
    "        (\"cat\", cat_features_transformer, cat_index)\n",
    "    ]\n",
    ")"
   ]
  },
  {
   "cell_type": "code",
   "execution_count": 8,
   "id": "b8bdb0dd",
   "metadata": {},
   "outputs": [],
   "source": [
    "from sklearn.ensemble import GradientBoostingRegressor\n",
    "\n",
    "model = Pipeline(\n",
    "    steps=[\n",
    "        (\"preprocessor\", preprocessor),\n",
    "        (\"regressor\", GradientBoostingRegressor(random_state=42))\n",
    "    ]\n",
    ")"
   ]
  },
  {
   "cell_type": "code",
   "execution_count": 9,
   "id": "952d394d",
   "metadata": {},
   "outputs": [
    {
     "data": {
      "text/html": [
       "<style>#sk-container-id-1 {color: black;background-color: white;}#sk-container-id-1 pre{padding: 0;}#sk-container-id-1 div.sk-toggleable {background-color: white;}#sk-container-id-1 label.sk-toggleable__label {cursor: pointer;display: block;width: 100%;margin-bottom: 0;padding: 0.3em;box-sizing: border-box;text-align: center;}#sk-container-id-1 label.sk-toggleable__label-arrow:before {content: \"▸\";float: left;margin-right: 0.25em;color: #696969;}#sk-container-id-1 label.sk-toggleable__label-arrow:hover:before {color: black;}#sk-container-id-1 div.sk-estimator:hover label.sk-toggleable__label-arrow:before {color: black;}#sk-container-id-1 div.sk-toggleable__content {max-height: 0;max-width: 0;overflow: hidden;text-align: left;background-color: #f0f8ff;}#sk-container-id-1 div.sk-toggleable__content pre {margin: 0.2em;color: black;border-radius: 0.25em;background-color: #f0f8ff;}#sk-container-id-1 input.sk-toggleable__control:checked~div.sk-toggleable__content {max-height: 200px;max-width: 100%;overflow: auto;}#sk-container-id-1 input.sk-toggleable__control:checked~label.sk-toggleable__label-arrow:before {content: \"▾\";}#sk-container-id-1 div.sk-estimator input.sk-toggleable__control:checked~label.sk-toggleable__label {background-color: #d4ebff;}#sk-container-id-1 div.sk-label input.sk-toggleable__control:checked~label.sk-toggleable__label {background-color: #d4ebff;}#sk-container-id-1 input.sk-hidden--visually {border: 0;clip: rect(1px 1px 1px 1px);clip: rect(1px, 1px, 1px, 1px);height: 1px;margin: -1px;overflow: hidden;padding: 0;position: absolute;width: 1px;}#sk-container-id-1 div.sk-estimator {font-family: monospace;background-color: #f0f8ff;border: 1px dotted black;border-radius: 0.25em;box-sizing: border-box;margin-bottom: 0.5em;}#sk-container-id-1 div.sk-estimator:hover {background-color: #d4ebff;}#sk-container-id-1 div.sk-parallel-item::after {content: \"\";width: 100%;border-bottom: 1px solid gray;flex-grow: 1;}#sk-container-id-1 div.sk-label:hover label.sk-toggleable__label {background-color: #d4ebff;}#sk-container-id-1 div.sk-serial::before {content: \"\";position: absolute;border-left: 1px solid gray;box-sizing: border-box;top: 0;bottom: 0;left: 50%;z-index: 0;}#sk-container-id-1 div.sk-serial {display: flex;flex-direction: column;align-items: center;background-color: white;padding-right: 0.2em;padding-left: 0.2em;position: relative;}#sk-container-id-1 div.sk-item {position: relative;z-index: 1;}#sk-container-id-1 div.sk-parallel {display: flex;align-items: stretch;justify-content: center;background-color: white;position: relative;}#sk-container-id-1 div.sk-item::before, #sk-container-id-1 div.sk-parallel-item::before {content: \"\";position: absolute;border-left: 1px solid gray;box-sizing: border-box;top: 0;bottom: 0;left: 50%;z-index: -1;}#sk-container-id-1 div.sk-parallel-item {display: flex;flex-direction: column;z-index: 1;position: relative;background-color: white;}#sk-container-id-1 div.sk-parallel-item:first-child::after {align-self: flex-end;width: 50%;}#sk-container-id-1 div.sk-parallel-item:last-child::after {align-self: flex-start;width: 50%;}#sk-container-id-1 div.sk-parallel-item:only-child::after {width: 0;}#sk-container-id-1 div.sk-dashed-wrapped {border: 1px dashed gray;margin: 0 0.4em 0.5em 0.4em;box-sizing: border-box;padding-bottom: 0.4em;background-color: white;}#sk-container-id-1 div.sk-label label {font-family: monospace;font-weight: bold;display: inline-block;line-height: 1.2em;}#sk-container-id-1 div.sk-label-container {text-align: center;}#sk-container-id-1 div.sk-container {/* jupyter's `normalize.less` sets `[hidden] { display: none; }` but bootstrap.min.css set `[hidden] { display: none !important; }` so we also need the `!important` here to be able to override the default hidden behavior on the sphinx rendered scikit-learn.org. See: https://github.com/scikit-learn/scikit-learn/issues/21755 */display: inline-block !important;position: relative;}#sk-container-id-1 div.sk-text-repr-fallback {display: none;}</style><div id=\"sk-container-id-1\" class=\"sk-top-container\"><div class=\"sk-text-repr-fallback\"><pre>Pipeline(steps=[(&#x27;preprocessor&#x27;,\n",
       "                 ColumnTransformer(transformers=[(&#x27;cat&#x27;,\n",
       "                                                  Pipeline(steps=[(&#x27;encoder&#x27;,\n",
       "                                                                   OrdinalEncoder()),\n",
       "                                                                  (&#x27;selector&#x27;,\n",
       "                                                                   SelectPercentile(percentile=50,\n",
       "                                                                                    score_func=&lt;function mutual_info_regression at 0x000001CEC8066050&gt;))]),\n",
       "                                                  [3, 4, 5, 6, 7, 8, 10,\n",
       "                                                   11])])),\n",
       "                (&#x27;regressor&#x27;, GradientBoostingRegressor(random_state=42))])</pre><b>In a Jupyter environment, please rerun this cell to show the HTML representation or trust the notebook. <br />On GitHub, the HTML representation is unable to render, please try loading this page with nbviewer.org.</b></div><div class=\"sk-container\" hidden><div class=\"sk-item sk-dashed-wrapped\"><div class=\"sk-label-container\"><div class=\"sk-label sk-toggleable\"><input class=\"sk-toggleable__control sk-hidden--visually\" id=\"sk-estimator-id-1\" type=\"checkbox\" ><label for=\"sk-estimator-id-1\" class=\"sk-toggleable__label sk-toggleable__label-arrow\">Pipeline</label><div class=\"sk-toggleable__content\"><pre>Pipeline(steps=[(&#x27;preprocessor&#x27;,\n",
       "                 ColumnTransformer(transformers=[(&#x27;cat&#x27;,\n",
       "                                                  Pipeline(steps=[(&#x27;encoder&#x27;,\n",
       "                                                                   OrdinalEncoder()),\n",
       "                                                                  (&#x27;selector&#x27;,\n",
       "                                                                   SelectPercentile(percentile=50,\n",
       "                                                                                    score_func=&lt;function mutual_info_regression at 0x000001CEC8066050&gt;))]),\n",
       "                                                  [3, 4, 5, 6, 7, 8, 10,\n",
       "                                                   11])])),\n",
       "                (&#x27;regressor&#x27;, GradientBoostingRegressor(random_state=42))])</pre></div></div></div><div class=\"sk-serial\"><div class=\"sk-item sk-dashed-wrapped\"><div class=\"sk-label-container\"><div class=\"sk-label sk-toggleable\"><input class=\"sk-toggleable__control sk-hidden--visually\" id=\"sk-estimator-id-2\" type=\"checkbox\" ><label for=\"sk-estimator-id-2\" class=\"sk-toggleable__label sk-toggleable__label-arrow\">preprocessor: ColumnTransformer</label><div class=\"sk-toggleable__content\"><pre>ColumnTransformer(transformers=[(&#x27;cat&#x27;,\n",
       "                                 Pipeline(steps=[(&#x27;encoder&#x27;, OrdinalEncoder()),\n",
       "                                                 (&#x27;selector&#x27;,\n",
       "                                                  SelectPercentile(percentile=50,\n",
       "                                                                   score_func=&lt;function mutual_info_regression at 0x000001CEC8066050&gt;))]),\n",
       "                                 [3, 4, 5, 6, 7, 8, 10, 11])])</pre></div></div></div><div class=\"sk-parallel\"><div class=\"sk-parallel-item\"><div class=\"sk-item\"><div class=\"sk-label-container\"><div class=\"sk-label sk-toggleable\"><input class=\"sk-toggleable__control sk-hidden--visually\" id=\"sk-estimator-id-3\" type=\"checkbox\" ><label for=\"sk-estimator-id-3\" class=\"sk-toggleable__label sk-toggleable__label-arrow\">cat</label><div class=\"sk-toggleable__content\"><pre>[3, 4, 5, 6, 7, 8, 10, 11]</pre></div></div></div><div class=\"sk-serial\"><div class=\"sk-item\"><div class=\"sk-serial\"><div class=\"sk-item\"><div class=\"sk-estimator sk-toggleable\"><input class=\"sk-toggleable__control sk-hidden--visually\" id=\"sk-estimator-id-4\" type=\"checkbox\" ><label for=\"sk-estimator-id-4\" class=\"sk-toggleable__label sk-toggleable__label-arrow\">OrdinalEncoder</label><div class=\"sk-toggleable__content\"><pre>OrdinalEncoder()</pre></div></div></div><div class=\"sk-item\"><div class=\"sk-estimator sk-toggleable\"><input class=\"sk-toggleable__control sk-hidden--visually\" id=\"sk-estimator-id-5\" type=\"checkbox\" ><label for=\"sk-estimator-id-5\" class=\"sk-toggleable__label sk-toggleable__label-arrow\">SelectPercentile</label><div class=\"sk-toggleable__content\"><pre>SelectPercentile(percentile=50,\n",
       "                 score_func=&lt;function mutual_info_regression at 0x000001CEC8066050&gt;)</pre></div></div></div></div></div></div></div></div></div></div><div class=\"sk-item\"><div class=\"sk-estimator sk-toggleable\"><input class=\"sk-toggleable__control sk-hidden--visually\" id=\"sk-estimator-id-6\" type=\"checkbox\" ><label for=\"sk-estimator-id-6\" class=\"sk-toggleable__label sk-toggleable__label-arrow\">GradientBoostingRegressor</label><div class=\"sk-toggleable__content\"><pre>GradientBoostingRegressor(random_state=42)</pre></div></div></div></div></div></div></div>"
      ],
      "text/plain": [
       "Pipeline(steps=[('preprocessor',\n",
       "                 ColumnTransformer(transformers=[('cat',\n",
       "                                                  Pipeline(steps=[('encoder',\n",
       "                                                                   OrdinalEncoder()),\n",
       "                                                                  ('selector',\n",
       "                                                                   SelectPercentile(percentile=50,\n",
       "                                                                                    score_func=<function mutual_info_regression at 0x000001CEC8066050>))]),\n",
       "                                                  [3, 4, 5, 6, 7, 8, 10,\n",
       "                                                   11])])),\n",
       "                ('regressor', GradientBoostingRegressor(random_state=42))])"
      ]
     },
     "execution_count": 9,
     "metadata": {},
     "output_type": "execute_result"
    }
   ],
   "source": [
    "model.fit(X_train, y_train)"
   ]
  },
  {
   "cell_type": "code",
   "execution_count": 10,
   "id": "6c12482d",
   "metadata": {},
   "outputs": [
    {
     "data": {
      "text/plain": [
       "0.4402997195658226"
      ]
     },
     "execution_count": 10,
     "metadata": {},
     "output_type": "execute_result"
    }
   ],
   "source": [
    "model.score(X_test, y_test)"
   ]
  },
  {
   "cell_type": "code",
   "execution_count": null,
   "id": "342b2d2e",
   "metadata": {},
   "outputs": [],
   "source": []
  }
 ],
 "metadata": {
  "kernelspec": {
   "display_name": "Python 3",
   "language": "python",
   "name": "python3"
  },
  "language_info": {
   "codemirror_mode": {
    "name": "ipython",
    "version": 3
   },
   "file_extension": ".py",
   "mimetype": "text/x-python",
   "name": "python",
   "nbconvert_exporter": "python",
   "pygments_lexer": "ipython3",
   "version": "3.10.9"
  }
 },
 "nbformat": 4,
 "nbformat_minor": 5
}
